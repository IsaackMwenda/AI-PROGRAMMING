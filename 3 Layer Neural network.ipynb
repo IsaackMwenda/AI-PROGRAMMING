{
 "cells": [
  {
   "cell_type": "code",
   "execution_count": 1,
   "metadata": {},
   "outputs": [],
   "source": [
    "import numpy as np\n",
    "\n",
    "def sigmoid(x,deriv=False):\n",
    "    '''sigmoid function'''\n",
    "\tif(deriv==True):\n",
    "\t    return x*(1-x)\n",
    "\n",
    "\treturn 1/(1+np.exp(-x))\n"
   ]
  },
  {
   "cell_type": "code",
   "execution_count": 2,
   "metadata": {},
   "outputs": [],
   "source": [
    "X = np.array([[0,0,1],\n",
    "            [0,1,1],\n",
    "            [1,0,1],\n",
    "            [1,1,1]])\n",
    "                \n",
    "y = np.array([[0],\n",
    "\t\t\t[1],\n",
    "\t\t\t[1],\n",
    "\t\t\t[0]])"
   ]
  },
  {
   "cell_type": "code",
   "execution_count": 5,
   "metadata": {},
   "outputs": [],
   "source": [
    "np.random.seed(1)"
   ]
  },
  {
   "cell_type": "code",
   "execution_count": 22,
   "metadata": {},
   "outputs": [],
   "source": [
    "#random weights with mean 0\n",
    "w1= 2*np.random.random((3,4)) - 1\n",
    "w2 = 2*np.random.random((4,1)) - 1\n",
    "\n",
    "for w in range(60000):\n",
    "    '''Feedforwarding through layers 1, 2, and 3'''\n",
    "    layer1 = X\n",
    "    layer2 = sigmoid(np.dot(l0,w1))\n",
    "    layer3 = sigmoid(np.dot(l1,w2))\n",
    "    l2_error = y - l2\n",
    "    \n",
    "    if (w% 10000) == 0:\n",
    "        error = str(np.mean(np.abs(l2_error)))\n",
    "    l2_delta = l2_error*sigmoid(layer3,deriv=True)\n",
    "    l1_error = l2_delta.dot(w2.T)\n",
    "    l1_delta = l1_error * sigmoid(layer2,deriv=True)\n",
    "    w2 += layer2.T.dot(l2_delta)\n",
    "    w1 += layer1.T.dot(l1_delta)"
   ]
  },
  {
   "cell_type": "code",
   "execution_count": 23,
   "metadata": {},
   "outputs": [
    {
     "name": "stdout",
     "output_type": "stream",
     "text": [
      "Training Output\n",
      "[[ 0.00260572]\n",
      " [ 0.99672209]\n",
      " [ 0.99701711]\n",
      " [ 0.00386759]]\n",
      "ANN Error\n",
      "Error = 0.00318353073559\n"
     ]
    }
   ],
   "source": [
    "print(\"Training Output\")\n",
    "print(l2)\n",
    "print(\"ANN Error\")\n",
    "print (\"Error = \" + error)"
   ]
  },
  {
   "cell_type": "code",
   "execution_count": null,
   "metadata": {},
   "outputs": [],
   "source": []
  },
  {
   "cell_type": "code",
   "execution_count": null,
   "metadata": {},
   "outputs": [],
   "source": []
  }
 ],
 "metadata": {
  "kernelspec": {
   "display_name": "Python 3",
   "language": "python",
   "name": "python3"
  },
  "language_info": {
   "codemirror_mode": {
    "name": "ipython",
    "version": 3
   },
   "file_extension": ".py",
   "mimetype": "text/x-python",
   "name": "python",
   "nbconvert_exporter": "python",
   "pygments_lexer": "ipython3",
   "version": "3.6.3"
  }
 },
 "nbformat": 4,
 "nbformat_minor": 2
}
